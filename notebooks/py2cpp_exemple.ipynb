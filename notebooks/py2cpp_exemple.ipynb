{
 "cells": [
  {
   "cell_type": "code",
   "execution_count": 5,
   "metadata": {},
   "outputs": [
    {
     "name": "stdout",
     "output_type": "stream",
     "text": [
      "Defaulting to user installation because normal site-packages is not writeable\n",
      "Collecting openai\n",
      "  Downloading openai-0.25.0.tar.gz (44 kB)\n",
      "\u001b[K     |████████████████████████████████| 44 kB 998 kB/s eta 0:00:01\n",
      "\u001b[?25h  Installing build dependencies ... \u001b[?25ldone\n",
      "\u001b[?25h  Getting requirements to build wheel ... \u001b[?25ldone\n",
      "\u001b[?25h    Preparing wheel metadata ... \u001b[?25ldone\n",
      "\u001b[?25hCollecting tqdm\n",
      "  Downloading tqdm-4.64.1-py2.py3-none-any.whl (78 kB)\n",
      "\u001b[K     |████████████████████████████████| 78 kB 890 kB/s eta 0:00:01\n",
      "\u001b[?25hRequirement already satisfied: numpy in /usr/local/lib/python3.7/site-packages (from openai) (1.19.5)\n",
      "Collecting pandas-stubs>=1.1.0.11\n",
      "  Downloading pandas_stubs-1.2.0.62-py3-none-any.whl (163 kB)\n",
      "\u001b[K     |████████████████████████████████| 163 kB 1.2 MB/s eta 0:00:01\n",
      "\u001b[?25hCollecting openpyxl>=3.0.7\n",
      "  Downloading openpyxl-3.0.10-py2.py3-none-any.whl (242 kB)\n",
      "\u001b[K     |████████████████████████████████| 242 kB 1.3 MB/s eta 0:00:01\n",
      "\u001b[?25hRequirement already satisfied: typing-extensions in /usr/local/lib/python3.7/site-packages (from openai) (3.7.4.3)\n",
      "Collecting pandas>=1.2.3\n",
      "  Downloading pandas-1.3.5-cp37-cp37m-manylinux_2_17_x86_64.manylinux2014_x86_64.whl (11.3 MB)\n",
      "\u001b[K     |████████████████████████████████| 11.3 MB 1.1 MB/s eta 0:00:01\n",
      "\u001b[?25hRequirement already satisfied: requests>=2.20 in /usr/local/lib/python3.7/site-packages (from openai) (2.23.0)\n",
      "Collecting et-xmlfile\n",
      "  Downloading et_xmlfile-1.1.0-py3-none-any.whl (4.7 kB)\n",
      "Requirement already satisfied: pytz>=2017.3 in /usr/local/lib/python3.7/site-packages (from pandas>=1.2.3->openai) (2020.1)\n",
      "Requirement already satisfied: python-dateutil>=2.7.3 in /usr/local/lib/python3.7/site-packages (from pandas>=1.2.3->openai) (2.8.1)\n",
      "Requirement already satisfied: chardet<4,>=3.0.2 in /usr/local/lib/python3.7/site-packages (from requests>=2.20->openai) (3.0.4)\n",
      "Requirement already satisfied: urllib3!=1.25.0,!=1.25.1,<1.26,>=1.21.1 in /usr/local/lib/python3.7/site-packages (from requests>=2.20->openai) (1.25.9)\n",
      "Requirement already satisfied: certifi>=2017.4.17 in /usr/local/lib/python3.7/site-packages (from requests>=2.20->openai) (2020.4.5.1)\n",
      "Requirement already satisfied: idna<3,>=2.5 in /usr/local/lib/python3.7/site-packages (from requests>=2.20->openai) (2.9)\n",
      "Requirement already satisfied: six>=1.5 in /usr/local/lib/python3.7/site-packages (from python-dateutil>=2.7.3->pandas>=1.2.3->openai) (1.15.0)\n",
      "Building wheels for collected packages: openai\n",
      "  Building wheel for openai (PEP 517) ... \u001b[?25ldone\n",
      "\u001b[?25h  Created wheel for openai: filename=openai-0.25.0-py3-none-any.whl size=55859 sha256=5926085958b65b2993dbfe8d605f3663e8f214ca154dc7d89ad5d4300859296d\n",
      "  Stored in directory: /home/adrien/.cache/pip/wheels/19/de/db/e82770b480ec30fd4a6d67108744b9c52be167c04fcf4af7b5\n",
      "Successfully built openai\n",
      "Installing collected packages: tqdm, pandas-stubs, et-xmlfile, openpyxl, pandas, openai\n",
      "Successfully installed et-xmlfile-1.1.0 openai-0.25.0 openpyxl-3.0.10 pandas-1.3.5 pandas-stubs-1.2.0.62 tqdm-4.64.1\n",
      "\u001b[33mWARNING: You are using pip version 20.2.4; however, version 22.3.1 is available.\n",
      "You should consider upgrading via the '/usr/local/bin/python3.7 -m pip install --upgrade pip' command.\u001b[0m\n"
     ]
    }
   ],
   "source": [
    "!{sys.executable} -m pip install openai"
   ]
  },
  {
   "cell_type": "code",
   "execution_count": 1,
   "metadata": {},
   "outputs": [],
   "source": [
    "from matplotlib import pyplot as plt\n",
    "from sklearn import datasets\n",
    "from sklearn.tree import DecisionTreeClassifier \n",
    "from sklearn import tree\n",
    "import numpy as np\n",
    "import sys\n",
    "# Prepare the data data\n",
    "iris = datasets.load_iris()\n",
    "X = iris.data\n",
    "y = iris.target\n",
    "\n",
    "# Fit the classifier with max_depth=3\n",
    "clf = DecisionTreeClassifier(max_depth=3, random_state=1234)\n",
    "model = clf.fit(X, y)"
   ]
  },
  {
   "cell_type": "code",
   "execution_count": 2,
   "metadata": {},
   "outputs": [],
   "source": [
    "sys.path.append('../src/')\n",
    "from gencpp import decisionTreeReg2cpp"
   ]
  },
  {
   "cell_type": "code",
   "execution_count": 18,
   "metadata": {},
   "outputs": [
    {
     "data": {
      "text/plain": [
       "array([0, 1, 2])"
      ]
     },
     "execution_count": 18,
     "metadata": {},
     "output_type": "execute_result"
    }
   ],
   "source": []
  },
  {
   "cell_type": "code",
   "execution_count": 3,
   "metadata": {},
   "outputs": [
    {
     "name": "stdout",
     "output_type": "stream",
     "text": [
      "|--- petal length (cm) <= 2.45\n",
      "|   |--- class: 0\n",
      "|--- petal length (cm) >  2.45\n",
      "|   |--- petal width (cm) <= 1.75\n",
      "|   |   |--- petal length (cm) <= 4.95\n",
      "|   |   |   |--- class: 1\n",
      "|   |   |--- petal length (cm) >  4.95\n",
      "|   |   |   |--- class: 2\n",
      "|   |--- petal width (cm) >  1.75\n",
      "|   |   |--- petal length (cm) <= 4.85\n",
      "|   |   |   |--- class: 2\n",
      "|   |   |--- petal length (cm) >  4.85\n",
      "|   |   |   |--- class: 2\n",
      "\n"
     ]
    }
   ],
   "source": [
    "text_representation = tree.export_text(clf, feature_names=iris.feature_names)\n",
    "print(text_representation)"
   ]
  },
  {
   "cell_type": "code",
   "execution_count": 30,
   "metadata": {},
   "outputs": [],
   "source": [
    "from sklearn.tree import _tree\n",
    "\n",
    "def tree_to_code(tree, feature_names, class_names):\n",
    "    tree_ = tree.tree_\n",
    "    feature_name = [\n",
    "        feature_names[i] if i != _tree.TREE_UNDEFINED else \"undefined!\"\n",
    "        for i in tree_.feature\n",
    "    ]\n",
    "    #feature_names = [f.replace(\" \", \"_\")[:-5] for f in feature_names]\n",
    "    \n",
    "    input_names = \", \".join(feature_names)\n",
    "    \n",
    "    print(f\"def predict({input_names}):\")\n",
    "\n",
    "    def recurse(node, depth):\n",
    "        indent = \"    \" * depth\n",
    "        if tree_.feature[node] != _tree.TREE_UNDEFINED:\n",
    "            name = feature_name[node]\n",
    "            threshold = tree_.threshold[node]\n",
    "            print(\"{}if {} <= {}:\".format(indent, name, np.round(threshold,2)))\n",
    "            recurse(tree_.children_left[node], depth + 1)\n",
    "            print(\"{}else:  # if {} > {}\".format(indent, name, np.round(threshold,2)))\n",
    "            recurse(tree_.children_right[node], depth + 1)\n",
    "        else:\n",
    "            print(\"{}return {}\".format(indent, class_names[np.argmax(tree_.value[node])]))\n",
    "\n",
    "    recurse(0, 1)"
   ]
  },
  {
   "cell_type": "code",
   "execution_count": 34,
   "metadata": {
    "scrolled": false
   },
   "outputs": [
    {
     "name": "stdout",
     "output_type": "stream",
     "text": [
      "def predict(sepallength, sepalwidth, petallength, petalwidth):\n",
      "    if petallength <= 2.45:\n",
      "        return setosa\n",
      "    else:  # if petallength > 2.45\n",
      "        if petalwidth <= 1.75:\n",
      "            if petallength <= 4.95:\n",
      "                return versicolor\n",
      "            else:  # if petallength > 4.95\n",
      "                return virginica\n",
      "        else:  # if petalwidth > 1.75\n",
      "            if petallength <= 4.85:\n",
      "                return virginica\n",
      "            else:  # if petallength > 4.85\n",
      "                return virginica\n"
     ]
    }
   ],
   "source": [
    "tree_to_code(clf, [\"sepallength\", \"sepalwidth\", \"petallength\", \"petalwidth\"], iris.target_names)"
   ]
  },
  {
   "cell_type": "code",
   "execution_count": 21,
   "metadata": {},
   "outputs": [],
   "source": [
    "def predict(sepallength, sepalwidth, petallength, petalwidth):\n",
    "    if petallength <= 2.45:\n",
    "        return setosa\n",
    "    else:  # if petallength > 2.45\n",
    "        if petalwidth <= 1.75:\n",
    "            if petallength <= 4.95:\n",
    "                return versicolor\n",
    "            else:  # if petallength > 4.95\n",
    "                return virginica\n",
    "        else:  # if petalwidth > 1.75\n",
    "            if petallength <= 4.85:\n",
    "                return virginica\n",
    "            else:  # if petallength > 4.85\n",
    "                return virginica"
   ]
  },
  {
   "cell_type": "code",
   "execution_count": 4,
   "metadata": {},
   "outputs": [],
   "source": [
    "from sklearn import datasets\n",
    "from sklearn.tree import DecisionTreeRegressor\n",
    "from sklearn import tree\n",
    "\n",
    "# Prepare the data data\n",
    "boston = datasets.load_boston()\n",
    "X = boston.data\n",
    "y = boston.target\n",
    "\n",
    "# Fit the regressor, set max_depth = 3\n",
    "regr = DecisionTreeRegressor(max_depth=3, random_state=1234)\n",
    "model = regr.fit(X, y)\n",
    "\n"
   ]
  },
  {
   "cell_type": "code",
   "execution_count": 5,
   "metadata": {},
   "outputs": [
    {
     "name": "stdout",
     "output_type": "stream",
     "text": [
      "Codex is looking for a compilable C++ solution ...\n",
      "__CODEX: Let me come up with something new ...\n",
      "Found a compilable solution after 1 iterations\n",
      "C++ File: ../data/evaluation.cpp\n",
      "Compiled Executable: ../data/evaluation\n"
     ]
    }
   ],
   "source": [
    "decisionTreeReg2cpp(regr, boston.feature_names, \"../data/evaluation\", \"../src/config\")"
   ]
  }
 ],
 "metadata": {
  "kernelspec": {
   "display_name": "Python 3",
   "language": "python",
   "name": "python3"
  },
  "language_info": {
   "codemirror_mode": {
    "name": "ipython",
    "version": 3
   },
   "file_extension": ".py",
   "mimetype": "text/x-python",
   "name": "python",
   "nbconvert_exporter": "python",
   "pygments_lexer": "ipython3",
   "version": "3.7.2"
  }
 },
 "nbformat": 4,
 "nbformat_minor": 4
}
