{
 "cells": [
  {
   "cell_type": "code",
   "execution_count": 6,
   "metadata": {},
   "outputs": [],
   "source": [
    "import sys\n",
    "import numpy as np\n",
    "import os\n",
    "sys.path.append('../src/')\n",
    "sys.path.append('../data/')\n",
    "from convertRandomForest import convertRandomForest\n",
    "import evaluation\n",
    "from sklearn.ensemble import RandomForestRegressor\n",
    "from sklearn.datasets import make_regression\n",
    "from sklearn.tree import _tree"
   ]
  },
  {
   "cell_type": "code",
   "execution_count": 2,
   "metadata": {},
   "outputs": [
    {
     "name": "stdout",
     "output_type": "stream",
     "text": [
      "[-8.32987858]\n",
      "[-8.32987858]\n",
      "\n",
      "[-11.67665548]\n",
      "[-8.32987858]\n",
      "\n",
      "[-8.32987858]\n",
      "[-8.32987858]\n",
      "\n"
     ]
    }
   ],
   "source": [
    "X, y = make_regression(n_features=4, n_informative=2,\n",
    "                       random_state=0, shuffle=False)\n",
    "regr = RandomForestRegressor(max_depth=2, random_state=0, warm_start=True)\n",
    "regr.fit(X, y)\n",
    "\n",
    "regr_save = RandomForestRegressor(max_depth=2, random_state=0, warm_start=True)\n",
    "regr_save.fit(X, y)\n",
    "\n",
    "print(regr.predict([[0, 0, 0, 0]]))\n",
    "print(regr_save.predict([[0, 0, 0, 0]]))\n",
    "print()\n",
    "\n",
    "regr.n_estimators = 200\n",
    "Xbis, ybis = make_regression(n_features=4, n_informative=2,\n",
    "                       random_state=1, shuffle=False)\n",
    "regr.fit(Xbis, ybis)\n",
    "\n",
    "print(regr.predict([[0, 0, 0, 0]]))\n",
    "print(regr_save.predict([[0, 0, 0, 0]]))\n",
    "print()\n",
    "\n",
    "regr.estimators_ = regr.estimators_[0:100]\n",
    "\n",
    "print(regr.predict([[0, 0, 0, 0]]))\n",
    "print(regr_save.predict([[0, 0, 0, 0]]))\n",
    "print()"
   ]
  },
  {
   "cell_type": "code",
   "execution_count": 3,
   "metadata": {},
   "outputs": [
    {
     "data": {
      "text/plain": [
       "array([-8.32987858])"
      ]
     },
     "execution_count": 3,
     "metadata": {},
     "output_type": "execute_result"
    }
   ],
   "source": [
    "evaluation.random_forest_evaluation([[0, 0, 0, 0]])"
   ]
  },
  {
   "cell_type": "code",
   "execution_count": 5,
   "metadata": {},
   "outputs": [],
   "source": [
    "convertRandomForest(regr, [\"A\", \"B\", \"C\", \"D\"], \"../data/evaluation\")"
   ]
  }
 ],
 "metadata": {
  "kernelspec": {
   "display_name": "Python 3",
   "language": "python",
   "name": "python3"
  },
  "language_info": {
   "codemirror_mode": {
    "name": "ipython",
    "version": 3
   },
   "file_extension": ".py",
   "mimetype": "text/x-python",
   "name": "python",
   "nbconvert_exporter": "python",
   "pygments_lexer": "ipython3",
   "version": "3.7.2"
  }
 },
 "nbformat": 4,
 "nbformat_minor": 4
}
